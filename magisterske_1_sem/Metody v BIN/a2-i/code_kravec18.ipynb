{
 "cells": [
  {
   "cell_type": "code",
   "execution_count": 1,
   "id": "6d0b7cfc-32c8-4817-83fa-ebc41683134f",
   "metadata": {
    "id": "6d0b7cfc-32c8-4817-83fa-ebc41683134f"
   },
   "outputs": [],
   "source": [
    "import numpy as np\n",
    "import matplotlib.pyplot as plt\n",
    "from time import time\n",
    "import numba"
   ]
  },
  {
   "cell_type": "markdown",
   "id": "dfe7ade1-ea23-43e6-ac93-330c9bfaf797",
   "metadata": {
    "id": "dfe7ade1-ea23-43e6-ac93-330c9bfaf797"
   },
   "source": [
    "Useful functions:"
   ]
  },
  {
   "cell_type": "code",
   "execution_count": 2,
   "id": "8cb177b8-2f81-480c-a7d4-b34fd942a415",
   "metadata": {
    "id": "8cb177b8-2f81-480c-a7d4-b34fd942a415"
   },
   "outputs": [],
   "source": [
    "def rebuild_tree(tree):\n",
    "    out_tree = dict()\n",
    "    for node in tree:\n",
    "        out_tree[node[1]] = out_tree.get(node[1], {}) | {node[0]: node[2]}\n",
    "    return out_tree"
   ]
  },
  {
   "cell_type": "code",
   "execution_count": 3,
   "id": "917c2b1a-9db8-44c8-bd1a-4c26c569ec5d",
   "metadata": {
    "id": "917c2b1a-9db8-44c8-bd1a-4c26c569ec5d"
   },
   "outputs": [],
   "source": [
    "@numba.njit\n",
    "def mutation_prob(base_a, base_b, alfa, t):\n",
    "    if base_a == base_b:\n",
    "        return (1+3*np.exp((-4*alfa*t)/3))/4\n",
    "    else:\n",
    "        return (1-np.exp((-4*alfa*t)/3))/4"
   ]
  },
  {
   "cell_type": "markdown",
   "id": "186f61e1-b751-406a-91fa-f2f7e51f2738",
   "metadata": {
    "id": "186f61e1-b751-406a-91fa-f2f7e51f2738"
   },
   "source": [
    "Tree preparation:"
   ]
  },
  {
   "cell_type": "code",
   "execution_count": 4,
   "id": "3cb2b435-7d42-41ba-9d3e-87803d2508fe",
   "metadata": {
    "id": "3cb2b435-7d42-41ba-9d3e-87803d2508fe"
   },
   "outputs": [],
   "source": [
    "tree = []\n",
    "\n",
    "with open(\"tree.txt\", \"r\") as f:\n",
    "    for line in f.readlines():\n",
    "        l = line.strip().split(\" \")\n",
    "        l[2] = float(l[2])\n",
    "        tree.append(l)\n",
    "\n",
    "tree = rebuild_tree(tree)\n",
    "\n",
    "leaf_bases = {\"Human\": \"A\",\n",
    "             \"Chimp\": \"A\",\n",
    "             \"Baboon\": \"A\",\n",
    "             \"Macaque\": \"A\",\n",
    "             \"Marmoset\": \"A\",\n",
    "             \"Rabbit\": \"A\",\n",
    "             \"Rat\": \"A\",\n",
    "             \"Mouse\": \"A\",\n",
    "             \"Cow\": \"A\",\n",
    "             \"Pig\": \"A\",\n",
    "             \"Horse\": \"A\",\n",
    "             \"Cat\": \"A\",\n",
    "             \"Dog\": \"A\",\n",
    "             \"Elephant\": \"A\"}"
   ]
  },
  {
   "cell_type": "markdown",
   "id": "86c47bbe-032f-4cd6-91d6-261c53f32982",
   "metadata": {
    "id": "86c47bbe-032f-4cd6-91d6-261c53f32982"
   },
   "source": [
    "Leaf sequence:"
   ]
  },
  {
   "cell_type": "code",
   "execution_count": 5,
   "id": "22029bf8-73d3-4d98-87e2-93737dcdfea7",
   "metadata": {
    "id": "22029bf8-73d3-4d98-87e2-93737dcdfea7"
   },
   "outputs": [],
   "source": [
    "leaf_sequences = dict()\n",
    "\n",
    "with open(\"cftr.txt\", \"r\") as f:\n",
    "    leaf_name = \"\"\n",
    "    for line in f.readlines():\n",
    "        if line[0] == \">\":\n",
    "            leaf_name = line[1:].strip()\n",
    "        else:\n",
    "            leaf_sequences[leaf_name] = leaf_sequences.get(leaf_name, \"\") + line.strip()"
   ]
  },
  {
   "cell_type": "markdown",
   "id": "63bd4201-eaf4-455d-bc59-b3c39d021524",
   "metadata": {},
   "source": [
    "Exons positions:"
   ]
  },
  {
   "cell_type": "code",
   "execution_count": 6,
   "id": "80aa58bd-70bf-4009-ae28-74231facbed0",
   "metadata": {},
   "outputs": [],
   "source": [
    "exons_pos = []\n",
    "\n",
    "with open(\"exons.txt\", \"r\") as f:\n",
    "    for line in f.readlines():\n",
    "        if line != \"\":\n",
    "            ranges = line.strip().split(\" \")\n",
    "            exons_pos.append([int(ranges[0]), int(ranges[1])])"
   ]
  },
  {
   "cell_type": "code",
   "execution_count": 7,
   "id": "e89736e2-5ede-4a87-ac43-56f482a83e49",
   "metadata": {
    "id": "e89736e2-5ede-4a87-ac43-56f482a83e49"
   },
   "outputs": [],
   "source": [
    "bases = [\"A\", \"C\", \"G\", \"T\"]"
   ]
  },
  {
   "cell_type": "code",
   "execution_count": 8,
   "id": "5a6415b8-3c7b-490e-9d5d-b868e71dce4c",
   "metadata": {
    "id": "5a6415b8-3c7b-490e-9d5d-b868e71dce4c"
   },
   "outputs": [],
   "source": [
    "test_tree = [[\"B\", \"A\", 0.02],\n",
    "             [\"C\", \"A\", 0.03],\n",
    "             [\"D\", \"B\", 0.01],\n",
    "             [\"E\", \"B\", 0.02],\n",
    "             [\"F\", \"C\", 0.05]]\n",
    "test_bases = {\"D\": \"A\", \"E\": \"C\", \"F\": \"A\"}"
   ]
  },
  {
   "cell_type": "markdown",
   "id": "52a75c1e-0d58-4538-9d90-a1e33753e466",
   "metadata": {
    "id": "52a75c1e-0d58-4538-9d90-a1e33753e466"
   },
   "source": [
    "              A\n",
    "        0.02/   \\\n",
    "           /     \\0.03\n",
    "          B      C\n",
    "    0.01/  \\      \\0.05\n",
    "       /    \\0.02  \\\n",
    "      D     E      F"
   ]
  },
  {
   "cell_type": "markdown",
   "id": "ff8ca721-653c-4888-b43c-974c63028423",
   "metadata": {
    "id": "ff8ca721-653c-4888-b43c-974c63028423"
   },
   "source": [
    "a)"
   ]
  },
  {
   "cell_type": "markdown",
   "id": "ac6a9a25-aa37-4e59-8ce2-01e068fd65f4",
   "metadata": {
    "id": "ac6a9a25-aa37-4e59-8ce2-01e068fd65f4"
   },
   "source": [
    "Computation for one column:"
   ]
  },
  {
   "cell_type": "code",
   "execution_count": 9,
   "id": "5741405a-c873-4c37-9370-2473edc427d6",
   "metadata": {
    "id": "5741405a-c873-4c37-9370-2473edc427d6"
   },
   "outputs": [],
   "source": [
    "def falsenstein_one_col(root, tree, alfa, leaf_bases, poz):\n",
    "    sol_table = dict()\n",
    "    total_p = 0\n",
    "    nodes = tree.keys()\n",
    "    def tree_prob(root, base):\n",
    "        sol = sol_table.get((root, base), None)\n",
    "        if sol is not None:\n",
    "            return sol\n",
    "        if root not in nodes:\n",
    "            leaf_val = leaf_bases[root][poz]\n",
    "            if leaf_val == 'N' or leaf_val == '-':\n",
    "                return 1\n",
    "            elif base == leaf_val:\n",
    "                return 1\n",
    "            else:\n",
    "                return 0\n",
    "        else:\n",
    "            childrens = tree[root]\n",
    "            total = 1\n",
    "            for child, time in childrens.items():\n",
    "                temp = 0\n",
    "                for child_base in bases:\n",
    "                    temp += (tree_prob(child, child_base)\n",
    "                             *mutation_prob(base, child_base, alfa, time))\n",
    "                total *= temp\n",
    "            sol_table[(root, base)] = total\n",
    "            return total\n",
    "\n",
    "    for base in bases:\n",
    "        total_p += tree_prob(root, base)\n",
    "    return total_p/4"
   ]
  },
  {
   "cell_type": "markdown",
   "id": "b948341d-5844-4651-b015-94778956dcff",
   "metadata": {
    "id": "b948341d-5844-4651-b015-94778956dcff"
   },
   "source": [
    "Computation for whole alignment:"
   ]
  },
  {
   "cell_type": "code",
   "execution_count": 10,
   "id": "90b0bc13-e39c-42a7-9da0-b9f4d8f144eb",
   "metadata": {
    "id": "90b0bc13-e39c-42a7-9da0-b9f4d8f144eb"
   },
   "outputs": [],
   "source": [
    "def falsenstein_all_col(root, tree, alfa, leaf_bases, start, length):\n",
    "    total_log_p = 0\n",
    "    #k = len(list(leaf_bases.values())[0])\n",
    "    for i in range(start, start+length, 1):\n",
    "        col_prob = falsenstein_one_col(root, tree, alfa, leaf_bases, i)\n",
    "        if col_prob == 0:\n",
    "            total_log_p -= float(\"inf\")\n",
    "        else:\n",
    "            total_log_p += np.log(col_prob)\n",
    "    return np.exp(total_log_p)"
   ]
  },
  {
   "cell_type": "markdown",
   "id": "6e37ff47-b6e2-48c9-8f95-b818d59edc0e",
   "metadata": {
    "id": "6e37ff47-b6e2-48c9-8f95-b818d59edc0e"
   },
   "source": [
    "b)"
   ]
  },
  {
   "cell_type": "code",
   "execution_count": 11,
   "id": "9628578c-a0b3-4ddd-9dce-6a8147c8aaf2",
   "metadata": {
    "colab": {
     "base_uri": "https://localhost:8080/"
    },
    "id": "9628578c-a0b3-4ddd-9dce-6a8147c8aaf2",
    "outputId": "3b3eddba-41d6-449c-cecc-d2b00def8af6"
   },
   "outputs": [
    {
     "name": "stdout",
     "output_type": "stream",
     "text": [
      "All same bases in leaves and mutation prob. 0.2: 0.18337011879050813\n",
      "All same bases in leaves and mutation prob. 1.0: 0.054454067155337384\n"
     ]
    }
   ],
   "source": [
    "print(\"All same bases in leaves and mutation prob. 0.2: {}\".format(falsenstein_one_col(\"Root\", tree, 0.2, leaf_bases, 0 )))\n",
    "print(\"All same bases in leaves and mutation prob. 1.0: {}\".format(falsenstein_one_col(\"Root\", tree, 1, leaf_bases, 0)))"
   ]
  },
  {
   "cell_type": "markdown",
   "id": "8df16de7-ab18-49c8-aed9-c0bb8453f89d",
   "metadata": {
    "id": "8df16de7-ab18-49c8-aed9-c0bb8453f89d"
   },
   "source": [
    "c)"
   ]
  },
  {
   "cell_type": "code",
   "execution_count": 12,
   "id": "42fd40b7-b13e-4c5f-aa24-322547cc3061",
   "metadata": {
    "id": "42fd40b7-b13e-4c5f-aa24-322547cc3061"
   },
   "outputs": [],
   "source": [
    "def opt_mut_speed(root, tree, leaf_bases, start, length):\n",
    "    test_alfa = 0.1\n",
    "    best_alfa = 0.1\n",
    "    best_log_prob = -float(\"inf\")\n",
    "    for i in range(20):\n",
    "        test_prob = falsenstein_all_col(root, tree, test_alfa, leaf_bases, start, length)\n",
    "        if test_prob == 0:\n",
    "            test_log_prob = -float(\"inf\")\n",
    "        else:\n",
    "            test_log_prob = np.log(test_prob)\n",
    "\n",
    "        if test_log_prob > best_log_prob:\n",
    "            best_alfa = test_alfa\n",
    "            best_log_prob = test_log_prob\n",
    "        test_alfa =round(test_alfa+0.1,1)\n",
    "    return best_alfa\n"
   ]
  },
  {
   "cell_type": "code",
   "execution_count": 13,
   "id": "29b62574-b1bc-4593-9b25-3d70a38e0a09",
   "metadata": {
    "colab": {
     "base_uri": "https://localhost:8080/"
    },
    "id": "29b62574-b1bc-4593-9b25-3d70a38e0a09",
    "outputId": "06c3779a-0d7a-45e4-ecbb-1f8586b3de41"
   },
   "outputs": [
    {
     "name": "stdout",
     "output_type": "stream",
     "text": [
      "1.8\n"
     ]
    }
   ],
   "source": [
    "\n",
    "leaf_bases = {\"Human\": \"AGC\",\n",
    "             \"Chimp\": \"AGC\",\n",
    "             \"Baboon\": \"AGC\",\n",
    "             \"Macaque\": \"AGC\",\n",
    "             \"Marmoset\": \"CGC\",\n",
    "             \"Rabbit\": \"AGT\",\n",
    "             \"Rat\": \"ATT\",\n",
    "             \"Mouse\": \"ATT\",\n",
    "             \"Cow\": \"ATT\",\n",
    "             \"Pig\": \"GTT\",\n",
    "             \"Horse\": \"ATT\",\n",
    "             \"Cat\": \"ATT\",\n",
    "             \"Dog\": \"ATT\",\n",
    "             \"Elephant\": \"CGC\"}\n",
    "\n",
    "print(opt_mut_speed(\"Root\", tree, leaf_bases, 0, 3))"
   ]
  },
  {
   "cell_type": "markdown",
   "id": "97b07d00-58c6-4166-948e-b99a51cfcbe6",
   "metadata": {
    "id": "97b07d00-58c6-4166-948e-b99a51cfcbe6"
   },
   "source": [
    "d)"
   ]
  },
  {
   "cell_type": "code",
   "execution_count": 13,
   "id": "YGHa1tKeAVM7",
   "metadata": {
    "colab": {
     "base_uri": "https://localhost:8080/"
    },
    "id": "YGHa1tKeAVM7",
    "outputId": "1bc7e911-e250-4e9e-ff92-c4ea9fac7aa2"
   },
   "outputs": [
    {
     "name": "stdout",
     "output_type": "stream",
     "text": [
      "0\n",
      "3.3709864616394043\n",
      "33.164825677871704\n"
     ]
    }
   ],
   "source": [
    "start = time()\n",
    "seq_len = len(leaf_sequences[\"Human\"])\n",
    "opt_alfa_per_hundred = []\n",
    "for i in range(0, 1_000, 100):\n",
    "    if i+100 <= seq_len:\n",
    "        opt_alfa_per_hundred.append(opt_mut_speed(\"Root\", tree, leaf_sequences, i, 100))\n",
    "        #print(i, 100)\n",
    "    else:\n",
    "        opt_alfa_per_hundred.append(opt_mut_speed(\"Root\", tree, leaf_sequences, i, seq_len-i))\n",
    "        #print(i, seq_len-i)\n",
    "    if i%3_000 == 0:\n",
    "        print(i)\n",
    "        print(time() - start)\n",
    "print(time() - start)"
   ]
  },
  {
   "cell_type": "code",
   "execution_count": 14,
   "id": "a2cc0cb8-fae3-4715-a16a-684cae865579",
   "metadata": {},
   "outputs": [
    {
     "name": "stdout",
     "output_type": "stream",
     "text": [
      "[1.0, 1.2, 1.1, 2.0, 1.6, 1.0, 1.5, 1.3, 2.0, 1.1]\n"
     ]
    }
   ],
   "source": [
    "print(opt_alfa_per_hundred)"
   ]
  },
  {
   "cell_type": "code",
   "execution_count": 15,
   "id": "3aa05229-e7ea-48cd-a90e-51c790b7aa0c",
   "metadata": {},
   "outputs": [],
   "source": [
    "#with open(\"alfa_per_hundred.txt\", \"a\") as f:\n",
    "#    for i in opt_alfa_per_hundred:\n",
    "#        f.write(str(i))\n",
    "#        f.write(\"\\n\")"
   ]
  },
  {
   "cell_type": "code",
   "execution_count": 21,
   "id": "3c223b8d-6b4d-463d-b12d-d731f8ebcfb8",
   "metadata": {},
   "outputs": [],
   "source": [
    "alfa_per_hundred = []\n",
    "with open(\"alfa_per_hundred.txt\", \"r\") as f:\n",
    "    for line in f:\n",
    "        if line != \"\":\n",
    "            alfa_per_hundred.append(float(line.strip()))"
   ]
  },
  {
   "cell_type": "code",
   "execution_count": 22,
   "id": "3bb8b4fd-fb9d-488b-845d-6d5e037695e9",
   "metadata": {},
   "outputs": [],
   "source": [
    "human_seq = leaf_sequences[\"Human\"]\n",
    "base_num = 0\n",
    "exons_alfa_set = set()\n",
    "exon_num = 0\n",
    "num_of_exons = len(exons_pos)\n",
    "\n",
    "for i, base in enumerate(human_seq):\n",
    "    if base != \"-\":\n",
    "        base_num += 1\n",
    "        if base_num > exons_pos[exon_num][1]:\n",
    "            exon_num += 1\n",
    "        if exon_num == num_of_exons:\n",
    "            break\n",
    "        if base_num >= exons_pos[exon_num][0] and base_num <= exons_pos[exon_num][1]:\n",
    "            exons_alfa_set.add(i//100)"
   ]
  },
  {
   "cell_type": "code",
   "execution_count": 23,
   "id": "4e6c978e-0e57-403c-a7c4-c8f63e62d8e1",
   "metadata": {},
   "outputs": [],
   "source": [
    "alfas_with_exons = []\n",
    "alfas_without_exons =[]\n",
    "\n",
    "for i, alfa in enumerate(alfa_per_hundred):\n",
    "    if i in exons_alfa_set:\n",
    "        alfas_with_exons.append(alfa)\n",
    "    else:\n",
    "        alfas_without_exons.append(alfa)"
   ]
  },
  {
   "cell_type": "code",
   "execution_count": 35,
   "id": "530345a9-041e-483e-a4b5-8f9b8d5a1417",
   "metadata": {},
   "outputs": [
    {
     "data": {
      "text/plain": [
       "<bound method Figure.show of <Figure size 640x480 with 2 Axes>>"
      ]
     },
     "execution_count": 35,
     "metadata": {},
     "output_type": "execute_result"
    },
    {
     "data": {
      "image/png": "[encoded data removed]",
      "text/plain": [
       "<Figure size 640x480 with 2 Axes>"
      ]
     },
     "metadata": {},
     "output_type": "display_data"
    }
   ],
   "source": [
    "fig, ax = plt.subplots(1,2)\n",
    "\n",
    "ax[1].hist(alfas_without_exons, bins=19, density=True, label=\"Alfas without exons\")\n",
    "ax[0].hist(alfas_with_exons, bins=19, density=True, label=\"Alfas with exons\")\n",
    "ax[1].set_title(\"Alfas in windows without exons\")\n",
    "ax[0].set_title(\"Alfas in windows with exons\")\n",
    "fig.savefig(\"exons_non_exons_comp.png\")\n",
    "fig.show"
   ]
  },
  {
   "cell_type": "code",
   "execution_count": 39,
   "id": "d27c5800-0e9b-4e3f-8794-f838e70cbb9a",
   "metadata": {},
   "outputs": [
    {
     "data": {
      "image/png": "[encoded data removed]",
      "text/plain": [
       "<Figure size 640x480 with 1 Axes>"
      ]
     },
     "metadata": {},
     "output_type": "display_data"
    }
   ],
   "source": [
    "plt.hist([alfas_with_exons, alfas_without_exons], bins=19, density=True, label=[\"Alfas in windows with exons\", \"Alfas in windows without exons\"])\n",
    "plt.legend(loc='upper center', bbox_to_anchor=(0.5, 1.1),\n",
    "          ncol=3, fancybox=True, shadow=True)\n",
    "plt.savefig(\"exons_non_exons_comb.png\")"
   ]
  }
 ],
 "metadata": {
  "colab": {
   "provenance": []
  },
  "kernelspec": {
   "display_name": "Python 3 (ipykernel)",
   "language": "python",
   "name": "python3"
  },
  "language_info": {
   "codemirror_mode": {
    "name": "ipython",
    "version": 3
   },
   "file_extension": ".py",
   "mimetype": "text/x-python",
   "name": "python",
   "nbconvert_exporter": "python",
   "pygments_lexer": "ipython3",
   "version": "3.10.7"
  }
 },
 "nbformat": 4,
 "nbformat_minor": 5
}
