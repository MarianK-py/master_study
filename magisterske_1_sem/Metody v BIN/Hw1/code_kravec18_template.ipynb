{
 "nbformat": 4,
 "nbformat_minor": 0,
 "metadata": {
  "colab": {
   "provenance": [],
   "toc_visible": true
  },
  "kernelspec": {
   "name": "python3",
   "display_name": "Python 3"
  },
  "language_info": {
   "name": "python"
  }
 },
 "cells": [
  {
   "cell_type": "markdown",
   "source": [
    "# MBI HW1 for CS students (academic year 2023/24, winter semester)\n",
    "\n",
    "Add your code to this template."
   ],
   "metadata": {
    "id": "TYEZgSU1-NXe",
    "pycharm": {
     "name": "#%% md\n"
    }
   }
  },
  {
   "cell_type": "markdown",
   "source": [
    "# Module imports and function definitions\n",
    "\n",
    "Below we import some useful modules and define several functions including those listed in the assignment. Do not modify this part."
   ],
   "metadata": {
    "id": "HI7yrUos_rmt",
    "pycharm": {
     "name": "#%% md\n"
    }
   }
  },
  {
   "cell_type": "code",
   "execution_count": null,
   "metadata": {
    "id": "ez0WRmTjyk1V",
    "pycharm": {
     "name": "#%%\n"
    }
   },
   "outputs": [],
   "source": [
    "# imports\n",
    "import io\n",
    "import os\n",
    "import re\n",
    "import gc\n",
    "import sys\n",
    "import random\n",
    "import heapq\n",
    "import logging\n",
    "logging.basicConfig(level=logging.WARNING)\n",
    "logger = logging.getLogger('mbi').setLevel(logging.DEBUG)\n",
    "import itertools\n",
    "import hashlib\n",
    "\n",
    "import requests\n",
    "from numba import njit\n",
    "import numpy as np\n",
    "import pandas as pd\n",
    "import matplotlib.pyplot as plt\n",
    "import seaborn as sns\n",
    "sns.set()\n",
    "from tqdm.notebook import trange, tqdm\n",
    "\n",
    "!pip install biopython\n",
    "from Bio import SeqIO\n",
    "\n"
   ]
  },
  {
   "cell_type": "code",
   "source": [
    "def _download_file(url):\n",
    "  \"\"\"Auxiliary function to download a file from an url and return it as a string.\"\"\"\n",
    "  logger = logging.getLogger('mbi')\n",
    "  logger.debug(f\"Downloading from '{url}'...\")\n",
    "  sys.stderr.flush()\n",
    "  response = requests.get(url)\n",
    "  if response.status_code != 200:\n",
    "    raise Exception(f\"Cannot access '{url}'! Status code {response.status_code}\")\n",
    "  return response.text\n",
    "\n",
    "\n",
    "def read_fasta(url=None, filename=None):\n",
    "  \"\"\"Function reads sequences in a FASTA format and returns them as a list of strings consisting of letters A,C,G,T.\n",
    "  It also returns a list of descriptions of these sequences. If filename is given and it exists,\n",
    "  sequences are read from the file. Otherwise they are read from the URL and written to the file.\"\"\"\n",
    "  logger = logging.getLogger('mbi')\n",
    "\n",
    "  # open file or url\n",
    "  handle = None\n",
    "  output_handle = None\n",
    "  if filename is not None and os.path.isfile(filename) \\\n",
    "  and os.path.getsize(filename) > 0:\n",
    "    handle = open(filename, 'r')\n",
    "  elif url is not None:\n",
    "    from urllib.request import urlopen\n",
    "    handle = io.TextIOWrapper(urlopen(url), encoding='utf-8')\n",
    "    if filename is not None:\n",
    "      output_handle = open(filename, \"w\")\n",
    "\n",
    "  real_genomes, real_genome_descriptions = [], []\n",
    "  for gnum, genome in enumerate(SeqIO.parse(handle, \"fasta\")):\n",
    "    if output_handle is not None:\n",
    "      SeqIO.write(genome, output_handle, \"fasta\")\n",
    "    sequence = str(genome.seq).replace('N', '')\n",
    "    if not re.match(r'\\A[ACGT]+\\Z', sequence):\n",
    "      raise ValueError(f\"Bad genome characters in the input file\")\n",
    "    description = genome.description\n",
    "    real_genomes.append(sequence)\n",
    "    real_genome_descriptions.append(description)\n",
    "    logger.debug(f\"Parsed genome #{gnum}: {description[:70]}...\")\n",
    "\n",
    "  if output_handle is not None:\n",
    "    output_handle.close()\n",
    "  handle.close()\n",
    "\n",
    "  return real_genomes, real_genome_descriptions\n",
    "\n",
    "\n",
    "@njit\n",
    "def c(x: str) -> str:\n",
    "  \"\"\"Returns complement of a single DNA base\"\"\"\n",
    "  if x == 'A':\n",
    "    return 'T'\n",
    "  elif x == 'T':\n",
    "    return 'A'\n",
    "  elif x == 'C':\n",
    "    return 'G'\n",
    "  elif x == 'G':\n",
    "    return 'C'\n",
    "  else:\n",
    "    return \"\"\n",
    "\n",
    "\n",
    "@njit\n",
    "def _reverse_complement(seq: str) -> str:\n",
    "  \"\"\"Returns reverse complement (opposite strand) of a DNA sequence\"\"\"\n",
    "  return \"\".join([c(seq[i]) for i in range(len(seq)-1, -1, -1)])\n",
    "\n",
    "\n",
    "@njit\n",
    "def canonical(kmer: str) -> str:\n",
    "  \"\"\"Returns a canonical k-mer for the input k-mer. \"\"\"\n",
    "  comp_kmer = _reverse_complement(kmer)\n",
    "  if kmer <= comp_kmer:\n",
    "    return kmer\n",
    "  else:\n",
    "    return comp_kmer\n",
    "\n",
    "\n",
    "@njit\n",
    "def full_kmer_set(sequence: str, k: int) -> set[str]:\n",
    "  \"\"\"Function gets a string consisting of letters A,C,G,T representing a single genome and integer k and returns a Python set of all canonical k-mers of the input string.\"\"\"\n",
    "  result = set()\n",
    "  for start in range(len(sequence) - k + 1):\n",
    "    result.add(canonical(sequence[start:start+k]))\n",
    "  return result\n",
    "\n",
    "\n",
    "@njit\n",
    "def mutate(sequence: str, p: float) -> str:\n",
    "  \"\"\"Function gets a string consisting of letters A,C,G,T representing a single genome and a mutation probability p (a real number between 0 and 1).\n",
    "  For each base of the input string it will decide with probability p to mutate it or 1-p to leave it as it was.\n",
    "  If the base is mutated, it is replaced by a randomly chosen base from the remaining three.\"\"\"\n",
    "  others = {x: \"ACGT\".replace(x, \"\") for x in \"ACGT\"}\n",
    "  result = \"\".join([x if random.random() > p else others[x][random.randint(0, 2)] for x in sequence])\n",
    "  return result\n",
    "\n",
    "def shash(seq: str) -> int:\n",
    "  \"\"\"A hash function to be used for hashing k-mers in minimizers and MinHash\"\"\"\n",
    "  hasher = hashlib.blake2b(salt=b'')\n",
    "  hasher.update(seq.encode(encoding='utf-8'))\n",
    "  d = hasher.digest()\n",
    "  result = int.from_bytes(d[:5], byteorder='little')\n",
    "  return result\n",
    "\n",
    "\n",
    "# testing\n",
    "print(f\"{[x + '->' + c(x) for x in 'ACGT']}\")\n",
    "print(f\"{_reverse_complement('AGTG')=}\")\n",
    "print(f\"{_reverse_complement('CACT')=}\")\n",
    "print(f\"{canonical('AGTG')=}\")\n",
    "print(f\"{canonical('CACT')=}\")\n",
    "print(f\"{list(full_kmer_set('CCAAGGTCCATC', k=3))=}\")\n",
    "print(f\"{[mutate('AAAACCCCGGGGTTTT', p=0.25) for _ in range(5)]=}\")\n",
    "print(f\"{shash('A' * 13)=}, {shash('ACTACTACTACTG')=} {shash('T'*12 + 'A')=}\")\n"
   ],
   "metadata": {
    "id": "jnBpsn09-Zu4",
    "pycharm": {
     "name": "#%%\n"
    }
   },
   "execution_count": null,
   "outputs": []
  },
  {
   "cell_type": "markdown",
   "source": [
    "## Downloading genomes\n",
    "\n",
    "This part will download bacterial genomes and create mutated versions of genome 0 as described in the assignment. When you run this cell first time, the sequences will be downloaded from the internet and saved to `bacteria.fasta` file. Subsequently, this file will be read instead."
   ],
   "metadata": {
    "id": "DjdbkV5eA4a6",
    "pycharm": {
     "name": "#%% md\n"
    }
   }
  },
  {
   "cell_type": "code",
   "source": [
    "url = \"http://compbio.fmph.uniba.sk/vyuka/mbi-data/du1/bacteria.fasta\"\n",
    "real_genomes, real_genome_descriptions = read_fasta(url=url, filename=\"bacteria.fasta\")\n",
    "if len(real_genomes) != 9:\n",
    "  raise Exception(\"Some problem with reading sequences, perhaps delete bacteria.fasta file\")\n",
    "gc.collect()"
   ],
   "metadata": {
    "id": "dSKRcOB8Aakf",
    "pycharm": {
     "name": "#%%\n"
    }
   },
   "execution_count": null,
   "outputs": []
  },
  {
   "cell_type": "code",
   "source": [
    "mutation_probabilities = [0.01, 0.05, 0.1, 0.2, 0.3, 0.4]\n",
    "random.seed(47)\n",
    "mutated_genomes = [mutate(real_genomes[0], p) for p in mutation_probabilities]\n",
    "gc.collect()"
   ],
   "metadata": {
    "id": "9FISYT45Kme2",
    "pycharm": {
     "name": "#%%\n"
    }
   },
   "execution_count": null,
   "outputs": []
  },
  {
   "cell_type": "markdown",
   "source": [
    "## Task 1: Jaccard similarity\n",
    "\n",
    "Implement function `jaccard` below and run it on the real genomes as specified in the assignment."
   ],
   "metadata": {
    "id": "1pKbHdRD9_Eg",
    "pycharm": {
     "name": "#%% md\n"
    }
   }
  },
  {
   "cell_type": "code",
   "source": [
    "def jaccard(first_set: set[str], list_of_sets: list[set[str]]) -> list[float]:\n",
    "  \"\"\"Function gets one set and a list of n sets\n",
    "  and computes a vector of n Jaccard similarities of the first set compared each of the sets in the list. \"\"\"\n",
    "  pass\n"
   ],
   "metadata": {
    "id": "2QOquCBrL5wh",
    "pycharm": {
     "name": "#%%\n"
    }
   },
   "execution_count": null,
   "outputs": []
  },
  {
   "cell_type": "markdown",
   "source": [
    "## Task 2: Minimizers\n",
    "\n",
    "Implement function `minimizer_set` below and run it on a portion of genome 0 as specified in the assignment."
   ],
   "metadata": {
    "id": "kgR4yy4S-CQB",
    "pycharm": {
     "name": "#%% md\n"
    }
   }
  },
  {
   "cell_type": "code",
   "source": [
    "def minimizer_set(sequence: str, k: int, w: int) -> set[str]:\n",
    "  \"\"\"Function gets a string consisting of letters A,C,G,T and two parameters k and w\n",
    "  and returns a Python set of all minimizers of the string. \"\"\"\n",
    "  pass"
   ],
   "metadata": {
    "id": "yfVKMRSSP-k7",
    "pycharm": {
     "name": "#%%\n"
    }
   },
   "execution_count": null,
   "outputs": []
  },
  {
   "cell_type": "markdown",
   "source": [
    "## Task 3: MinHash\n",
    "\n",
    "Implement function `minhash_set` below and run it on a portion of genome 0 as specified in the assignment."
   ],
   "metadata": {
    "id": "PHQXZOfe-CXd",
    "pycharm": {
     "name": "#%% md\n"
    }
   }
  },
  {
   "cell_type": "code",
   "source": [
    "def minhash_set(sequence : str, k : int, m : int)-> set[str]:\n",
    "  \"\"\"Function gets a string consisting of letters A,C,G,T and two integers k and m\n",
    "  and returns the minhash set of the string.\"\"\"\n",
    "  pass"
   ],
   "metadata": {
    "id": "5UxDfjf0pJfk",
    "pycharm": {
     "name": "#%%\n"
    }
   },
   "execution_count": null,
   "outputs": []
  },
  {
   "cell_type": "markdown",
   "source": [
    "Implement function `minhash_jaccard` below and run it on all real genomes as specified in the assignment."
   ],
   "metadata": {
    "id": "BH18i62-dMmU",
    "pycharm": {
     "name": "#%% md\n"
    }
   }
  },
  {
   "cell_type": "code",
   "source": [
    "def minhash_jaccard(first_set: set[str], list_of_sets: list[set[str]]) -> list[float]:\n",
    "  pass"
   ],
   "metadata": {
    "id": "1vvWQvWP3BGw",
    "pycharm": {
     "name": "#%%\n"
    }
   },
   "execution_count": null,
   "outputs": []
  },
  {
   "cell_type": "markdown",
   "source": [
    "## Task 4: Accuracy of *k*-mer Jaccard index\n",
    "\n",
    "Here compute quantities required in task 4."
   ],
   "metadata": {
    "id": "dlOmS3RG-Ce0",
    "pycharm": {
     "name": "#%% md\n"
    }
   }
  },
  {
   "cell_type": "code",
   "source": [],
   "metadata": {
    "id": "Fz4oLGC52On5",
    "pycharm": {
     "name": "#%%\n"
    }
   },
   "execution_count": null,
   "outputs": []
  },
  {
   "cell_type": "markdown",
   "source": [
    "## Task 5: Jaccard index on real genomes\n",
    "\n",
    "Here compute quantities required in task 5."
   ],
   "metadata": {
    "id": "ExTc7TVp-Clc",
    "pycharm": {
     "name": "#%% md\n"
    }
   }
  },
  {
   "cell_type": "code",
   "source": [],
   "metadata": {
    "id": "LO8FRAdP2Ns9",
    "pycharm": {
     "name": "#%%\n"
    }
   },
   "execution_count": null,
   "outputs": []
  },
  {
   "cell_type": "markdown",
   "source": [
    "## Task 6: Accuracy of minimizers and minhash\n",
    "\n",
    "Here compute quantities required in task 5. You can combine tasks 6 and 7 here to run long computations only once."
   ],
   "metadata": {
    "id": "BZBKwNPL-CuU",
    "pycharm": {
     "name": "#%% md\n"
    }
   }
  },
  {
   "cell_type": "code",
   "source": [],
   "metadata": {
    "id": "2T4HDJF12M_S",
    "pycharm": {
     "name": "#%%\n"
    }
   },
   "execution_count": null,
   "outputs": []
  },
  {
   "cell_type": "markdown",
   "source": [
    "## Task 7: Running time and memory"
   ],
   "metadata": {
    "id": "xle1Niub-C1o",
    "pycharm": {
     "name": "#%% md\n"
    }
   }
  }
 ]
}