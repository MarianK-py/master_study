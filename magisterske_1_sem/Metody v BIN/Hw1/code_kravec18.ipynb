{
 "cells": [
  {
   "cell_type": "markdown",
   "metadata": {
    "id": "TYEZgSU1-NXe",
    "pycharm": {
     "name": "#%% md\n"
    }
   },
   "source": [
    "# MBI HW1 for CS students (academic year 2023/24, winter semester)\n",
    "\n",
    "Add your code to this template."
   ]
  },
  {
   "cell_type": "markdown",
   "metadata": {
    "id": "HI7yrUos_rmt",
    "pycharm": {
     "name": "#%% md\n"
    }
   },
   "source": [
    "# Module imports and function definitions\n",
    "\n",
    "Below we import some useful modules and define several functions including those listed in the assignment. Do not modify this part."
   ]
  },
  {
   "cell_type": "code",
   "execution_count": 1,
   "metadata": {
    "colab": {
     "base_uri": "https://localhost:8080/"
    },
    "id": "ez0WRmTjyk1V",
    "outputId": "98270f55-70a6-4d69-b79a-6d06b616565c",
    "pycharm": {
     "name": "#%%\n"
    }
   },
   "outputs": [
    {
     "output_type": "stream",
     "name": "stdout",
     "text": [
      "Collecting biopython\n",
      "  Downloading biopython-1.81-cp310-cp310-manylinux_2_17_x86_64.manylinux2014_x86_64.whl (3.1 MB)\n",
      "\u001B[2K     \u001B[90m━━━━━━━━━━━━━━━━━━━━━━━━━━━━━━━━━━━━━━━━\u001B[0m \u001B[32m3.1/3.1 MB\u001B[0m \u001B[31m26.7 MB/s\u001B[0m eta \u001B[36m0:00:00\u001B[0m\n",
      "\u001B[?25hRequirement already satisfied: numpy in /usr/local/lib/python3.10/dist-packages (from biopython) (1.23.5)\n",
      "Installing collected packages: biopython\n",
      "Successfully installed biopython-1.81\n"
     ]
    }
   ],
   "source": [
    "# imports\n",
    "import io\n",
    "import os\n",
    "import re\n",
    "import gc\n",
    "import sys\n",
    "import random\n",
    "import heapq\n",
    "import queue\n",
    "import logging\n",
    "logging.basicConfig(level=logging.WARNING)\n",
    "logger = logging.getLogger('mbi').setLevel(logging.DEBUG)\n",
    "import itertools\n",
    "import hashlib\n",
    "\n",
    "import requests\n",
    "from numba import njit\n",
    "import numpy as np\n",
    "import pandas as pd\n",
    "import matplotlib.pyplot as plt\n",
    "import seaborn as sns\n",
    "sns.set()\n",
    "from tqdm.notebook import trange, tqdm\n",
    "\n",
    "!pip install biopython\n",
    "from Bio import SeqIO\n",
    "\n"
   ]
  },
  {
   "cell_type": "code",
   "execution_count": 2,
   "metadata": {
    "colab": {
     "base_uri": "https://localhost:8080/"
    },
    "id": "jnBpsn09-Zu4",
    "outputId": "60c96630-a072-42a1-852c-839e624ed87e",
    "pycharm": {
     "name": "#%%\n"
    }
   },
   "outputs": [
    {
     "output_type": "stream",
     "name": "stdout",
     "text": [
      "['A->T', 'C->G', 'G->C', 'T->A']\n",
      "_reverse_complement('AGTG')='CACT'\n",
      "_reverse_complement('CACT')='AGTG'\n",
      "canonical('AGTG')='AGTG'\n",
      "canonical('CACT')='AGTG'\n",
      "list(full_kmer_set('CCAAGGTCCATC', k=3))=['CAA', 'CCA', 'ATC', 'ACC', 'AGG', 'AAG', 'GGA', 'GAC', 'ATG']\n",
      "[mutate('AAAACCCCGGGGTTTT', p=0.25) for _ in range(5)]=['AACACCGCGGGGTTTT', 'AAAACACCGCGGTTTA', 'AAAATCCCGGGGTTTT', 'AAACCCCCGGGGTTTA', 'AACACCACAGGGTTTG']\n",
      "shash('A' * 13)=281618300821, shash('ACTACTACTACTG')=687357743147 shash('T'*12 + 'A')=912656793854\n"
     ]
    }
   ],
   "source": [
    "def _download_file(url):\n",
    "  \"\"\"Auxiliary function to download a file from an url and return it as a string.\"\"\"\n",
    "  logger = logging.getLogger('mbi')\n",
    "  logger.debug(f\"Downloading from '{url}'...\")\n",
    "  sys.stderr.flush()\n",
    "  response = requests.get(url)\n",
    "  if response.status_code != 200:\n",
    "    raise Exception(f\"Cannot access '{url}'! Status code {response.status_code}\")\n",
    "  return response.text\n",
    "\n",
    "\n",
    "def read_fasta(url=None, filename=None):\n",
    "  \"\"\"Function reads sequences in a FASTA format and returns them as a list of strings consisting of letters A,C,G,T.\n",
    "  It also returns a list of descriptions of these sequences. If filename is given and it exists,\n",
    "  sequences are read from the file. Otherwise they are read from the URL and written to the file.\"\"\"\n",
    "  logger = logging.getLogger('mbi')\n",
    "\n",
    "  # open file or url\n",
    "  handle = None\n",
    "  output_handle = None\n",
    "  if filename is not None and os.path.isfile(filename) \\\n",
    "  and os.path.getsize(filename) > 0:\n",
    "    handle = open(filename, 'r')\n",
    "  elif url is not None:\n",
    "    from urllib.request import urlopen\n",
    "    handle = io.TextIOWrapper(urlopen(url), encoding='utf-8')\n",
    "    if filename is not None:\n",
    "      output_handle = open(filename, \"w\")\n",
    "\n",
    "  real_genomes, real_genome_descriptions = [], []\n",
    "  for gnum, genome in enumerate(SeqIO.parse(handle, \"fasta\")):\n",
    "    if output_handle is not None:\n",
    "      SeqIO.write(genome, output_handle, \"fasta\")\n",
    "    sequence = str(genome.seq).replace('N', '')\n",
    "    if not re.match(r'\\A[ACGT]+\\Z', sequence):\n",
    "      raise ValueError(f\"Bad genome characters in the input file\")\n",
    "    description = genome.description\n",
    "    real_genomes.append(sequence)\n",
    "    real_genome_descriptions.append(description)\n",
    "    logger.debug(f\"Parsed genome #{gnum}: {description[:70]}...\")\n",
    "\n",
    "  if output_handle is not None:\n",
    "    output_handle.close()\n",
    "  handle.close()\n",
    "\n",
    "  return real_genomes, real_genome_descriptions\n",
    "\n",
    "\n",
    "@njit\n",
    "def c(x: str) -> str:\n",
    "  \"\"\"Returns complement of a single DNA base\"\"\"\n",
    "  if x == 'A':\n",
    "    return 'T'\n",
    "  elif x == 'T':\n",
    "    return 'A'\n",
    "  elif x == 'C':\n",
    "    return 'G'\n",
    "  elif x == 'G':\n",
    "    return 'C'\n",
    "  else:\n",
    "    return \"\"\n",
    "\n",
    "\n",
    "@njit\n",
    "def _reverse_complement(seq: str) -> str:\n",
    "  \"\"\"Returns reverse complement (opposite strand) of a DNA sequence\"\"\"\n",
    "  return \"\".join([c(seq[i]) for i in range(len(seq)-1, -1, -1)])\n",
    "\n",
    "\n",
    "@njit\n",
    "def canonical(kmer: str) -> str:\n",
    "  \"\"\"Returns a canonical k-mer for the input k-mer. \"\"\"\n",
    "  comp_kmer = _reverse_complement(kmer)\n",
    "  if kmer <= comp_kmer:\n",
    "    return kmer\n",
    "  else:\n",
    "    return comp_kmer\n",
    "\n",
    "\n",
    "@njit\n",
    "def full_kmer_set(sequence: str, k: int) -> set[str]:\n",
    "  \"\"\"Function gets a string consisting of letters A,C,G,T representing a single genome and integer k and returns a Python set of all canonical k-mers of the input string.\"\"\"\n",
    "  result = set()\n",
    "  for start in range(len(sequence) - k + 1):\n",
    "    result.add(canonical(sequence[start:start+k]))\n",
    "  return result\n",
    "\n",
    "\n",
    "@njit\n",
    "def mutate(sequence: str, p: float) -> str:\n",
    "  \"\"\"Function gets a string consisting of letters A,C,G,T representing a single genome and a mutation probability p (a real number between 0 and 1).\n",
    "  For each base of the input string it will decide with probability p to mutate it or 1-p to leave it as it was.\n",
    "  If the base is mutated, it is replaced by a randomly chosen base from the remaining three.\"\"\"\n",
    "  others = {x: \"ACGT\".replace(x, \"\") for x in \"ACGT\"}\n",
    "  result = \"\".join([x if random.random() > p else others[x][random.randint(0, 2)] for x in sequence])\n",
    "  return result\n",
    "\n",
    "def shash(seq: str) -> int:\n",
    "  \"\"\"A hash function to be used for hashing k-mers in minimizers and MinHash\"\"\"\n",
    "  hasher = hashlib.blake2b(salt=b'')\n",
    "  hasher.update(seq.encode(encoding='utf-8'))\n",
    "  d = hasher.digest()\n",
    "  result = int.from_bytes(d[:5], byteorder='little')\n",
    "  return result\n",
    "\n",
    "\n",
    "# testing\n",
    "print(f\"{[x + '->' + c(x) for x in 'ACGT']}\")\n",
    "print(f\"{_reverse_complement('AGTG')=}\")\n",
    "print(f\"{_reverse_complement('CACT')=}\")\n",
    "print(f\"{canonical('AGTG')=}\")\n",
    "print(f\"{canonical('CACT')=}\")\n",
    "print(f\"{list(full_kmer_set('CCAAGGTCCATC', k=3))=}\")\n",
    "print(f\"{[mutate('AAAACCCCGGGGTTTT', p=0.25) for _ in range(5)]=}\")\n",
    "print(f\"{shash('A' * 13)=}, {shash('ACTACTACTACTG')=} {shash('T'*12 + 'A')=}\")\n"
   ]
  },
  {
   "cell_type": "markdown",
   "metadata": {
    "id": "DjdbkV5eA4a6",
    "pycharm": {
     "name": "#%% md\n"
    }
   },
   "source": [
    "## Downloading genomes\n",
    "\n",
    "This part will download bacterial genomes and create mutated versions of genome 0 as described in the assignment. When you run this cell first time, the sequences will be downloaded from the internet and saved to `bacteria.fasta` file. Subsequently, this file will be read instead."
   ]
  },
  {
   "cell_type": "code",
   "execution_count": 3,
   "metadata": {
    "colab": {
     "base_uri": "https://localhost:8080/"
    },
    "id": "dSKRcOB8Aakf",
    "outputId": "87f9db74-44e0-4d2b-dfa1-8e5aea606d5f",
    "pycharm": {
     "name": "#%%\n"
    }
   },
   "outputs": [
    {
     "output_type": "stream",
     "name": "stderr",
     "text": [
      "DEBUG:mbi:Parsed genome #0: NC_000913.3 Escherichia coli str. K-12 substr. MG1655, complete genome...\n",
      "DEBUG:mbi:Parsed genome #1: NZ_CP031922.1 Escherichia coli O26:H11 strain FWSEC0001 chromosome, co...\n",
      "DEBUG:mbi:Parsed genome #2: NZ_CP083638.1 Escherichia fergusonii strain FDAARGOS_1499 chromosome, ...\n",
      "DEBUG:mbi:Parsed genome #3: NC_007795.1 Staphylococcus aureus subsp. aureus NCTC 8325 chromosome, ...\n",
      "DEBUG:mbi:Parsed genome #4: NC_016845.1 Klebsiella pneumoniae subsp. pneumoniae HS11286 chromosome...\n",
      "DEBUG:mbi:Parsed genome #5: NC_002695.2 Escherichia coli O157:H7 str. Sakai DNA, complete genome...\n",
      "DEBUG:mbi:Parsed genome #6: NZ_CP009756.1 Enterobacter cloacae strain GGT036 chromosome, complete ...\n",
      "DEBUG:mbi:Parsed genome #7: NZ_AP019632.1 Enterobacter asburiae strain 1808-013 chromosome, comple...\n",
      "DEBUG:mbi:Parsed genome #8: NZ_AP022508.1 Enterobacter bugandensis strain STN0717-56 chromosome, c...\n"
     ]
    },
    {
     "output_type": "execute_result",
     "data": {
      "text/plain": [
       "28512"
      ]
     },
     "metadata": {},
     "execution_count": 3
    }
   ],
   "source": [
    "url = \"http://compbio.fmph.uniba.sk/vyuka/mbi-data/du1/bacteria.fasta\"\n",
    "real_genomes, real_genome_descriptions = read_fasta(url=url, filename=\"bacteria.fasta\")\n",
    "if len(real_genomes) != 9:\n",
    "  raise Exception(\"Some problem with reading sequences, perhaps delete bacteria.fasta file\")\n",
    "gc.collect()"
   ]
  },
  {
   "cell_type": "code",
   "execution_count": 4,
   "metadata": {
    "colab": {
     "base_uri": "https://localhost:8080/"
    },
    "id": "9FISYT45Kme2",
    "outputId": "80243384-be18-4d56-cea8-20c82178a45e",
    "pycharm": {
     "name": "#%%\n"
    }
   },
   "outputs": [
    {
     "output_type": "execute_result",
     "data": {
      "text/plain": [
       "0"
      ]
     },
     "metadata": {},
     "execution_count": 4
    }
   ],
   "source": [
    "mutation_probabilities = [0.01, 0.05, 0.1, 0.2, 0.3, 0.4]\n",
    "random.seed(47)\n",
    "mutated_genomes = [mutate(real_genomes[0], p) for p in mutation_probabilities]\n",
    "gc.collect()"
   ]
  },
  {
   "cell_type": "markdown",
   "metadata": {
    "id": "4SVNUjf6uSmN",
    "pycharm": {
     "name": "#%% md\n"
    }
   },
   "source": [
    "## File writing function\n",
    "additional function used only to write lists into text files"
   ]
  },
  {
   "cell_type": "code",
   "execution_count": 5,
   "metadata": {
    "id": "tbpfkDUBuQ1M",
    "pycharm": {
     "name": "#%%\n"
    }
   },
   "outputs": [],
   "source": [
    "def write_to_file(file_name: str, list_to_write: list) -> str:\n",
    "  try:\n",
    "    with open(file_name, 'w') as f:\n",
    "      for item in range(len(list_to_write)-1):\n",
    "        f.write(str(list_to_write[item]))\n",
    "        f.write('\\n')\n",
    "      f.write(str(list_to_write[-1]))\n",
    "    return \"File succesfully created\"\n",
    "  except Exception as e:\n",
    "    #print(e)\n",
    "    return \"Error while creating file\""
   ]
  },
  {
   "cell_type": "markdown",
   "metadata": {
    "id": "1pKbHdRD9_Eg",
    "pycharm": {
     "name": "#%% md\n"
    }
   },
   "source": [
    "## Task 1: Jaccard similarity\n",
    "\n",
    "Implement function `jaccard` below and run it on the real genomes as specified in the assignment."
   ]
  },
  {
   "cell_type": "code",
   "execution_count": 6,
   "metadata": {
    "id": "2QOquCBrL5wh",
    "pycharm": {
     "name": "#%%\n"
    }
   },
   "outputs": [],
   "source": [
    "def jaccard(first_set: set[str], list_of_sets: list[set[str]]) -> list[float]:\n",
    "  # standard definition: length of intercept divided by legth of union compared sets\n",
    "  similarities = [len(first_set & compared_set)/len(first_set | compared_set)\n",
    "                  for compared_set in list_of_sets]\n",
    "  return similarities"
   ]
  },
  {
   "cell_type": "code",
   "execution_count": 25,
   "metadata": {
    "colab": {
     "base_uri": "https://localhost:8080/"
    },
    "id": "xbut9duiqntz",
    "outputId": "71f6c2b2-d3d9-4275-d262-fd86ffd1e4e4",
    "pycharm": {
     "name": "#%%\n"
    }
   },
   "outputs": [
    {
     "output_type": "stream",
     "name": "stdout",
     "text": [
      "File succesfully created\n"
     ]
    }
   ],
   "source": [
    "gen_0_set_of_kmer_13 = full_kmer_set(real_genomes[0], 13)\n",
    "all_get_sets_of_kmer_13 = [full_kmer_set(real_genome, 13) for real_genome in real_genomes]\n",
    "jaccard_sims = jaccard(gen_0_set_of_kmer_13, all_get_sets_of_kmer_13)\n",
    "print(write_to_file(\"jaccard.txt\", jaccard_sims))\n",
    "del gen_0_set_of_kmer_13\n",
    "del all_get_sets_of_kmer_13"
   ]
  },
  {
   "cell_type": "markdown",
   "metadata": {
    "id": "kgR4yy4S-CQB",
    "pycharm": {
     "name": "#%% md\n"
    }
   },
   "source": [
    "## Task 2: Minimizers\n",
    "\n",
    "Implement function `minimizer_set` below and run it on a portion of genome 0 as specified in the assignment."
   ]
  },
  {
   "cell_type": "code",
   "source": [
    "def minimizer_set(sequence: str, k: int, w: int) -> set[str]:\n",
    "  number_of_total_kmers = len(sequence) - k + 1\n",
    "  final_kmer_set = set()\n",
    "  curr_kmers = [(\"\", float('inf'))]*w\n",
    "  for i in range(number_of_total_kmers):\n",
    "    kmer = canonical(sequence[i:i+k])\n",
    "    kmer_shash = shash(kmer)\n",
    "    if i < w-1:\n",
    "      curr_kmers[i] = (kmer_shash, kmer)\n",
    "    else:\n",
    "      curr_kmers[i%w] = (kmer_shash, kmer)\n",
    "      min_kmer = min(curr_kmers, key=lambda x: x[0])\n",
    "      final_kmer_set.add(min_kmer[1])\n",
    "  return final_kmer_set"
   ],
   "metadata": {
    "id": "subW2U87aYw2",
    "pycharm": {
     "name": "#%%\n"
    }
   },
   "execution_count": 7,
   "outputs": []
  },
  {
   "cell_type": "code",
   "execution_count": 33,
   "metadata": {
    "colab": {
     "base_uri": "https://localhost:8080/"
    },
    "id": "10JAp2jMzm1z",
    "outputId": "33b87d9e-14fc-41be-fcfa-ab1f170e4e69",
    "pycharm": {
     "name": "#%%\n"
    }
   },
   "outputs": [
    {
     "output_type": "stream",
     "name": "stdout",
     "text": [
      "File succesfully created\n"
     ]
    }
   ],
   "source": [
    "min_kmers = minimizer_set(real_genomes[0][:1000], 9, 5)\n",
    "print(write_to_file(\"minimizers.txt\", sorted(list(min_kmers))))\n",
    "del min_kmers"
   ]
  },
  {
   "cell_type": "markdown",
   "metadata": {
    "id": "PHQXZOfe-CXd",
    "pycharm": {
     "name": "#%% md\n"
    }
   },
   "source": [
    "## Task 3: MinHash\n",
    "\n",
    "Implement function `minhash_set` below and run it on a portion of genome 0 as specified in the assignment."
   ]
  },
  {
   "cell_type": "code",
   "execution_count": 8,
   "metadata": {
    "id": "5UxDfjf0pJfk",
    "pycharm": {
     "name": "#%%\n"
    }
   },
   "outputs": [],
   "source": [
    "def minhash_set(sequence : str, k : int, m : int)-> set[str]:\n",
    "  # number of bases in genome (negligible memory used)\n",
    "  genome_length = len(sequence)\n",
    "  # heap queue of kmers (we will maintain it length to be at most m kmers with one numerical value so ~O(m*(k+1))~O(m*k))\n",
    "  heap_of_kmers = []\n",
    "  # set where we maintain final kmers (we make sure there are always at most m kmers so memory used ~O(m*k))\n",
    "  # (i decided to use it because it does not increase space complexity I can make sure that my heap will not contains one kmer multiple times)\n",
    "  set_of_kmers = set()\n",
    "  # number saying current length of heap (negligible memory used)\n",
    "  length_of_heap = 0\n",
    "  for start in range(genome_length - k + 1):\n",
    "    kmer = canonical(sequence[start:start+k])\n",
    "    kmer_shash = shash(kmer)\n",
    "    if length_of_heap < m and kmer not in set_of_kmers:\n",
    "      heapq.heappush(heap_of_kmers, (-kmer_shash, kmer))\n",
    "      set_of_kmers.add(kmer)\n",
    "      length_of_heap += 1\n",
    "    else:\n",
    "      max_shash = -heap_of_kmers[0][0]\n",
    "      if kmer_shash < max_shash and kmer not in set_of_kmers:\n",
    "        kmer_to_remove = heapq.heappop(heap_of_kmers)[1]\n",
    "        heapq.heappush(heap_of_kmers, (-kmer_shash, kmer))\n",
    "        set_of_kmers.discard(kmer_to_remove)\n",
    "        set_of_kmers.add(kmer)\n",
    "  # in total we used O(m*k) space for heap, O(m*k) for set and just O(1) or O(k) for others variabels\n",
    "  # in total our space complexity is O(m*k)\n",
    "  if length_of_heap == m:\n",
    "    return set([heapq.heappop(heap_of_kmers)[1] for i in range(m)])\n",
    "  else:\n",
    "    raise(\"Less then m kmers\")"
   ]
  },
  {
   "cell_type": "code",
   "execution_count": null,
   "metadata": {
    "colab": {
     "base_uri": "https://localhost:8080/"
    },
    "id": "tyJTF4WzM7bp",
    "outputId": "eda4aac1-b340-45f7-9632-314fa47b97a7",
    "pycharm": {
     "name": "#%%\n"
    }
   },
   "outputs": [
    {
     "name": "stdout",
     "output_type": "stream",
     "text": [
      "File succesfully created\n"
     ]
    }
   ],
   "source": [
    "min_hash_kmers = minhash_set(real_genomes[0][:1000], 9, 30)\n",
    "print(write_to_file(\"minhash.txt\", sorted(list(min_hash_kmers))))\n",
    "del min_hash_kmers"
   ]
  },
  {
   "cell_type": "markdown",
   "metadata": {
    "id": "BH18i62-dMmU",
    "pycharm": {
     "name": "#%% md\n"
    }
   },
   "source": [
    "Implement function `minhash_jaccard` below and run it on all real genomes as specified in the assignment."
   ]
  },
  {
   "cell_type": "code",
   "execution_count": 9,
   "metadata": {
    "id": "1vvWQvWP3BGw",
    "pycharm": {
     "name": "#%%\n"
    }
   },
   "outputs": [],
   "source": [
    "def minhash_jaccard(first_set: set[str], list_of_sets: list[set[str]]) -> list[float]:\n",
    "  length_of_first = len(first_set)\n",
    "  similarities = []\n",
    "  for i, compared_set in enumerate(list_of_sets):\n",
    "    set_length = len(compared_set)\n",
    "    if set_length != length_of_first:\n",
    "      raise(\"Incorect length of set on index {i}\".format(i))\n",
    "    similarities.append(len(first_set & compared_set)/length_of_first)\n",
    "  return similarities"
   ]
  },
  {
   "cell_type": "code",
   "execution_count": null,
   "metadata": {
    "colab": {
     "base_uri": "https://localhost:8080/"
    },
    "id": "ye75XyzDT0ya",
    "outputId": "8e9875b6-98d0-46fc-ddb5-d951571372c7",
    "pycharm": {
     "name": "#%%\n"
    }
   },
   "outputs": [
    {
     "name": "stdout",
     "output_type": "stream",
     "text": [
      "Error while creating file\n"
     ]
    }
   ],
   "source": [
    "gen_0_set_of_kmer_13_minhash = minhash_set(real_genomes[0], 13, 100)\n",
    "all_gen_sets_of_kmer_13_minhash = [minhash_set(genome, 13, 100) for genome in real_genomes]\n",
    "minhash_jaccard_sims = minhash_jaccard(gen_0_set_of_kmer_13_minhash, all_gen_sets_of_kmer_13_minhash)\n",
    "print(write_to_file(\"minhash_jaccard.txt\", minhash_jaccard_sims))\n",
    "del gen_0_set_of_kmer_13_minhash\n",
    "del all_gen_sets_of_kmer_13_minhash\n",
    "del minhash_jaccard_sims"
   ]
  },
  {
   "cell_type": "markdown",
   "metadata": {
    "id": "dlOmS3RG-Ce0",
    "pycharm": {
     "name": "#%% md\n"
    }
   },
   "source": [
    "## Task 4: Accuracy of *k*-mer Jaccard index\n",
    "\n",
    "Here compute quantities required in task 4."
   ]
  },
  {
   "cell_type": "code",
   "execution_count": 15,
   "metadata": {
    "id": "Fz4oLGC52On5",
    "pycharm": {
     "name": "#%%\n"
    }
   },
   "outputs": [],
   "source": [
    "# 1\n",
    "# kmer at fixed position has probability (1-p)^k to not be changed during\n",
    "# mutation because each position has probability 1-p to not be mutated\n",
    "# and because they are independent probability of all of them to not be mutated\n",
    "# is product of these probabilities, we have k positions so final value would be to k-th power\n",
    "non_mutated_prob = lambda p, k: (1-p)**k\n",
    "ks = [9, 13, 17]\n",
    "non_mutated_kmer_prob = dict()\n",
    "for k in ks:\n",
    "  for p in mutation_probabilities:\n",
    "    non_mutated_kmer_prob[k] = non_mutated_kmer_prob.get(k, [])+[non_mutated_prob(p, k)]"
   ]
  },
  {
   "cell_type": "code",
   "execution_count": 12,
   "metadata": {
    "colab": {
     "base_uri": "https://localhost:8080/"
    },
    "id": "Z6HpfDvkvl_K",
    "outputId": "6f06f37c-1ac3-4163-c58c-6f3faf938758",
    "pycharm": {
     "name": "#%%\n"
    }
   },
   "outputs": [
    {
     "output_type": "execute_result",
     "data": {
      "text/plain": [
       "{9: [0.9135172474836408,\n",
       "  0.6302494097246091,\n",
       "  0.3874204890000001,\n",
       "  0.13421772800000006,\n",
       "  0.04035360699999998,\n",
       "  0.010077695999999997],\n",
       " 13: [0.8775210229989678,\n",
       "  0.5133420832795048,\n",
       "  0.2541865828329001,\n",
       "  0.054975581388800036,\n",
       "  0.009688901040699992,\n",
       "  0.0013060694015999993],\n",
       " 17: [0.8429431933839268,\n",
       "  0.4181203352191771,\n",
       "  0.16677181699666577,\n",
       "  0.022517998136852502,\n",
       "  0.0023263051398720674,\n",
       "  0.00016926659444735988]}"
      ]
     },
     "metadata": {},
     "execution_count": 12
    }
   ],
   "source": [
    "non_mutated_kmer_prob"
   ]
  },
  {
   "cell_type": "code",
   "execution_count": 16,
   "metadata": {
    "id": "EQKLY_uIf_h2",
    "pycharm": {
     "name": "#%%\n"
    }
   },
   "outputs": [],
   "source": [
    "# 2\n",
    "jaccard_sims_mutated = dict()\n",
    "for k in ks:\n",
    "  jaccard_sims_mutated[k] = jaccard(full_kmer_set(real_genomes[0], k), [full_kmer_set(genome, k) for genome in mutated_genomes])"
   ]
  },
  {
   "cell_type": "code",
   "execution_count": 27,
   "metadata": {
    "colab": {
     "base_uri": "https://localhost:8080/"
    },
    "id": "cZzfWW-riWiP",
    "outputId": "fa09d4c0-e959-4a94-8005-66b8e7c8b5b4",
    "pycharm": {
     "name": "#%%\n"
    }
   },
   "outputs": [
    {
     "output_type": "stream",
     "name": "stdout",
     "text": [
      "9 & 0.994 & 0.991 & 0.99 & 0.99 & 0.99 & 0.99 \\\\ \\hline\n",
      "13 & 0.804 & 0.414 & 0.233 & 0.119 & 0.087 & 0.075 \\\\ \\hline\n",
      "17 & 0.728 & 0.264 & 0.091 & 0.012 & 0.002 & 0.0 \\\\ \\hline\n"
     ]
    }
   ],
   "source": [
    "jaccard_sims_mutated\n",
    "for k in ks:\n",
    "  print(k, end=\" \")\n",
    "  for j in jaccard_sims_mutated[k]:\n",
    "    print(\"&\", round(j, 3), end=\" \")\n",
    "  print(\"\\\\\\\\ \\hline\")"
   ]
  },
  {
   "cell_type": "code",
   "execution_count": null,
   "metadata": {
    "colab": {
     "base_uri": "https://localhost:8080/"
    },
    "id": "YOGqk93xoFQz",
    "outputId": "d1f7a803-5875-4a9e-cba6-be435588e8c1",
    "pycharm": {
     "name": "#%%\n"
    }
   },
   "outputs": [
    {
     "name": "stdout",
     "output_type": "stream",
     "text": [
      "129821\n",
      "131072.0\n",
      "0.9904556274414062\n"
     ]
    }
   ],
   "source": [
    "# number of different 9-mers in real genome 0\n",
    "num_of_9mer = len(full_kmer_set(real_genomes[0], 9))\n",
    "print(num_of_9mer)\n",
    "# teoretical maximal number of 9-mers (on each of 9 position can be one of 4 bases\n",
    "# but for each 9-mer exist it reverse complement and only smaller gets into set so divided by 2)\n",
    "print(4**9/2)\n",
    "print(num_of_9mer/(4**9/2))"
   ]
  },
  {
   "cell_type": "code",
   "execution_count": null,
   "metadata": {
    "colab": {
     "base_uri": "https://localhost:8080/",
     "height": 475
    },
    "id": "iLdJDPkSs-2U",
    "outputId": "46c2a79f-9d08-44a6-c980-f856f1d2bbf8",
    "pycharm": {
     "name": "#%%\n"
    }
   },
   "outputs": [
    {
     "data": {
      "text/plain": [
       "Text(0, 0.5, 'Jaccard similarity')"
      ]
     },
     "execution_count": 98,
     "metadata": {},
     "output_type": "execute_result"
    },
    {
     "data": {
      "image/png": "[encoded data removed]",
      "text/plain": [
       "<Figure size 640x480 with 1 Axes>"
      ]
     },
     "metadata": {},
     "output_type": "display_data"
    }
   ],
   "source": [
    "# 3\n",
    "for k in ks:\n",
    "  plt.plot(mutation_probabilities, jaccard_sims_mutated[k], label=\"k={}\".format(k))\n",
    "\n",
    "plt.legend()\n",
    "plt.xlabel(\"Mutation probability\")\n",
    "plt.ylabel(\"Jaccard similarity\")"
   ]
  },
  {
   "cell_type": "markdown",
   "metadata": {
    "id": "ExTc7TVp-Clc",
    "pycharm": {
     "name": "#%% md\n"
    }
   },
   "source": [
    "## Task 5: Jaccard index on real genomes\n",
    "\n",
    "Here compute quantities required in task 5."
   ]
  },
  {
   "cell_type": "code",
   "execution_count": null,
   "metadata": {
    "colab": {
     "base_uri": "https://localhost:8080/"
    },
    "id": "LO8FRAdP2Ns9",
    "outputId": "bbe72fbb-a1ac-401a-afe6-fe02e7acdf2d",
    "pycharm": {
     "name": "#%%\n"
    }
   },
   "outputs": [
    {
     "name": "stdout",
     "output_type": "stream",
     "text": [
      "Similarity to NC_000913.3 Escherichia coli str. K-12 substr. MG1655, complete genome\n",
      "NC_000913.3 Escherichia coli str. K-12 substr. MG1655, complete genome                    : 1.0\n",
      "NZ_CP031922.1 Escherichia coli O26:H11 strain FWSEC0001 chromosome, complete genome       : 0.6436\n",
      "NZ_CP083638.1 Escherichia fergusonii strain FDAARGOS_1499 chromosome, complete genome     : 0.2873\n",
      "NC_007795.1 Staphylococcus aureus subsp. aureus NCTC 8325 chromosome, complete genome     : 0.06254\n",
      "NC_016845.1 Klebsiella pneumoniae subsp. pneumoniae HS11286 chromosome, complete genome   : 0.1543\n",
      "NC_002695.2 Escherichia coli O157:H7 str. Sakai DNA, complete genome                      : 0.5887\n",
      "NZ_CP009756.1 Enterobacter cloacae strain GGT036 chromosome, complete genome              : 0.1582\n",
      "NZ_AP019632.1 Enterobacter asburiae strain 1808-013 chromosome, complete genome           : 0.1546\n",
      "NZ_AP022508.1 Enterobacter bugandensis strain STN0717-56 chromosome, complete genome      : 0.1558\n"
     ]
    }
   ],
   "source": [
    "# already done in task 1\n",
    "print(\"Similarity to {}\".format(real_genome_descriptions[0]))\n",
    "for i in range(9):\n",
    "  print(\"{:90}: {:1.4}\".format(real_genome_descriptions[i], jaccard_sims[i]))"
   ]
  },
  {
   "cell_type": "markdown",
   "metadata": {
    "id": "BZBKwNPL-CuU",
    "pycharm": {
     "name": "#%% md\n"
    }
   },
   "source": [
    "## Task 6: Accuracy of minimizers and minhash\n",
    "\n",
    "Here compute quantities required in task 5. You can combine tasks 6 and 7 here to run long computations only once."
   ]
  },
  {
   "cell_type": "code",
   "execution_count": 10,
   "metadata": {
    "id": "2T4HDJF12M_S",
    "pycharm": {
     "name": "#%%\n"
    }
   },
   "outputs": [],
   "source": [
    "k = 13\n",
    "ws = [2, 5, 10]\n",
    "ms = [10, 100, 1000]\n",
    "\n",
    "minimizer_jaccard_sims = dict()\n",
    "for w in ws:\n",
    "  gene_0 = minimizer_set(real_genomes[0], k, w)\n",
    "  all_genes = [minimizer_set(genome, k, w) for genome in mutated_genomes]\n",
    "  minimizer_jaccard_sims[w] = jaccard(gene_0, all_genes)\n",
    "\n",
    "minhash_jaccard_sims = dict()\n",
    "for m in ms:\n",
    "  gene_0 = minhash_set(real_genomes[0], k, m)\n",
    "  all_genes = [minhash_set(genome, k, m) for genome in mutated_genomes]\n",
    "  minhash_jaccard_sims[m] = minhash_jaccard(gene_0, all_genes)\n"
   ]
  },
  {
   "cell_type": "code",
   "execution_count": 28,
   "metadata": {
    "colab": {
     "base_uri": "https://localhost:8080/"
    },
    "id": "bayi1Vp2JT-d",
    "outputId": "4b06d7f7-4da8-444e-9135-bbc3c1d783d3",
    "pycharm": {
     "name": "#%%\n"
    }
   },
   "outputs": [
    {
     "output_type": "stream",
     "name": "stdout",
     "text": [
      "2 & 0.7972 & 0.3987 & 0.2162 & 0.1033 & 0.0737 & 0.0633 \\\\ \\hline\n",
      "5 & 0.7862 & 0.3774 & 0.1968 & 0.0897 & 0.0631 & 0.0539 \\\\ \\hline\n",
      "10 & 0.773 & 0.3563 & 0.1826 & 0.083 & 0.0585 & 0.0505 \\\\ \\hline\n"
     ]
    }
   ],
   "source": [
    "minimizer_jaccard_sims\n",
    "for w in ws:\n",
    "  print(w, end=\" \")\n",
    "  for j in minimizer_jaccard_sims[w]:\n",
    "    print(\"&\", round(j, 4), end=\" \")\n",
    "  print(\"\\\\\\\\ \\hline\")"
   ]
  },
  {
   "cell_type": "code",
   "execution_count": 29,
   "metadata": {
    "colab": {
     "base_uri": "https://localhost:8080/"
    },
    "id": "TCi4XE9RJMJ1",
    "outputId": "de4bd315-9607-4bc5-f901-b01d062c15e0",
    "pycharm": {
     "name": "#%%\n"
    }
   },
   "outputs": [
    {
     "output_type": "stream",
     "name": "stdout",
     "text": [
      "10 & 0.8 & 0.5 & 0.4 & 0.2 & 0.1 & 0.1 \\\\ \\hline\n",
      "100 & 0.88 & 0.6 & 0.4 & 0.25 & 0.18 & 0.17 \\\\ \\hline\n",
      "1000 & 0.895 & 0.595 & 0.377 & 0.212 & 0.148 & 0.139 \\\\ \\hline\n"
     ]
    }
   ],
   "source": [
    "minhash_jaccard_sims\n",
    "for m in ms:\n",
    "  print(m, end=\" \")\n",
    "  for j in minhash_jaccard_sims[m]:\n",
    "    print(\"&\", round(j, 4), end=\" \")\n",
    "  print(\"\\\\\\\\ \\hline\")"
   ]
  },
  {
   "cell_type": "code",
   "source": [
    "for w in ws:\n",
    "  print(w, end=\" \")\n",
    "  for i, j in enumerate(minimizer_jaccard_sims[w]):\n",
    "    print(\"&\", round(jaccard_sims_mutated[13][i]-j, 4), end=\" \")\n",
    "  print(\"\\\\\\\\ \\hline\")"
   ],
   "metadata": {
    "colab": {
     "base_uri": "https://localhost:8080/"
    },
    "id": "nsjULqybIAJH",
    "outputId": "ee1cee08-5663-41c1-973d-cf44ccf4a078",
    "pycharm": {
     "name": "#%%\n"
    }
   },
   "execution_count": 33,
   "outputs": [
    {
     "output_type": "stream",
     "name": "stdout",
     "text": [
      "2 & 0.0067 & 0.0157 & 0.0171 & 0.0153 & 0.0132 & 0.0119 \\\\ \\hline\n",
      "5 & 0.0178 & 0.0371 & 0.0365 & 0.029 & 0.0238 & 0.0213 \\\\ \\hline\n",
      "10 & 0.031 & 0.0582 & 0.0507 & 0.0357 & 0.0284 & 0.0247 \\\\ \\hline\n"
     ]
    }
   ]
  },
  {
   "cell_type": "code",
   "source": [
    "for m in ms:\n",
    "  print(m, end=\" \")\n",
    "  for i, j in enumerate(minhash_jaccard_sims[m]):\n",
    "    print(\"&\", round(jaccard_sims_mutated[13][i]-j, 4), end=\" \")\n",
    "  print(\"\\\\\\\\ \\hline\")"
   ],
   "metadata": {
    "colab": {
     "base_uri": "https://localhost:8080/"
    },
    "id": "Ahn2BVLCnFzI",
    "outputId": "c92ed543-df1a-4e30-b26f-c69fb3b5dece",
    "pycharm": {
     "name": "#%%\n"
    }
   },
   "execution_count": 36,
   "outputs": [
    {
     "output_type": "stream",
     "name": "stdout",
     "text": [
      "10 & 0.004 & -0.0855 & -0.1667 & -0.0814 & -0.0131 & -0.0248 \\\\ \\hline\n",
      "100 & -0.076 & -0.1855 & -0.1667 & -0.1314 & -0.0931 & -0.0948 \\\\ \\hline\n",
      "1000 & -0.091 & -0.1805 & -0.1437 & -0.0934 & -0.0611 & -0.0638 \\\\ \\hline\n"
     ]
    }
   ]
  },
  {
   "cell_type": "code",
   "source": [
    "for w in ws:\n",
    "  plt.plot(mutation_probabilities, np.absolute(\n",
    "      np.array(minimizer_jaccard_sims[w])-\n",
    "      np.array(jaccard_sims_mutated[13])), label=\"minimizer_set w={}\".format(w))\n",
    "\n",
    "for m in ms:\n",
    "  plt.plot(mutation_probabilities, np.absolute(\n",
    "      np.array(minhash_jaccard_sims[m])-\n",
    "      np.array(jaccard_sims_mutated[13])), label=\"minhash_set m={}\".format(m))\n",
    "\n",
    "plt.legend(loc='upper center', bbox_to_anchor=(0.5, 1.2),\n",
    "          ncol=3, fancybox=True, shadow=True)\n",
    "plt.xlabel(\"Mutation probability\")\n",
    "plt.ylabel(\"Absolute difference to Jaccard similarity\")"
   ],
   "metadata": {
    "colab": {
     "base_uri": "https://localhost:8080/",
     "height": 541
    },
    "id": "0BbZxWRzwSJx",
    "outputId": "14024b31-2978-4f7b-ee32-79e101e42f6b",
    "pycharm": {
     "name": "#%%\n"
    }
   },
   "execution_count": 26,
   "outputs": [
    {
     "output_type": "execute_result",
     "data": {
      "text/plain": [
       "Text(0, 0.5, 'Absolute difference to Jaccard similarity')"
      ]
     },
     "metadata": {},
     "execution_count": 26
    },
    {
     "output_type": "display_data",
     "data": {
      "text/plain": [
       "<Figure size 640x480 with 1 Axes>"
      ],
      "image/png": "[encoded data removed]"
     },
     "metadata": {}
    }
   ]
  },
  {
   "cell_type": "markdown",
   "metadata": {
    "id": "xle1Niub-C1o",
    "pycharm": {
     "name": "#%% md\n"
    }
   },
   "source": [
    "## Task 7: Running time and memory"
   ]
  },
  {
   "cell_type": "code",
   "source": [
    "import time\n",
    "k = 13\n",
    "ws = [2, 5, 10]\n",
    "ms = [10, 100, 1000]\n"
   ],
   "metadata": {
    "id": "fz-fwG9oVyih",
    "pycharm": {
     "name": "#%%\n"
    }
   },
   "execution_count": 11,
   "outputs": []
  },
  {
   "cell_type": "code",
   "source": [
    "print(\"Full k-mers set:\")\n",
    "start = time.perf_counter()\n",
    "full = full_kmer_set(real_genomes[0], k)\n",
    "stop = round(time.perf_counter() - start, 4)\n",
    "print(\"space: {:7} time: {:.4}\".format(len(full), stop))\n",
    "\n",
    "print(\"Minimizer set:\")\n",
    "for w in ws:\n",
    "  start = time.perf_counter()\n",
    "  mini = minimizer_set(real_genomes[0], k, w)\n",
    "  stop = round(time.perf_counter() - start, 4)\n",
    "  print(\"w: {:4} space: {:7} time: {:.4}\".format(w, len(mini), stop))\n",
    "\n",
    "print(\"MinHash set:\")\n",
    "for m in ms:\n",
    "  start = time.perf_counter()\n",
    "  minH = minhash_set(real_genomes[0], k, m)\n",
    "  stop = round(time.perf_counter() - start, 4)\n",
    "  print(\"m: {:4} space: {:7} time: {:.4}\".format(m, len(minH), stop))\n"
   ],
   "metadata": {
    "colab": {
     "base_uri": "https://localhost:8080/"
    },
    "id": "DuV9iWEGVzx7",
    "outputId": "ccc47013-0846-4a2f-9491-fdb445ca5949",
    "pycharm": {
     "name": "#%%\n"
    }
   },
   "execution_count": 13,
   "outputs": [
    {
     "output_type": "stream",
     "name": "stdout",
     "text": [
      "Full k-mers set:\n",
      "space: 3852750 time: 19.51\n",
      "Minimizer set:\n",
      "w:    2 space: 2629171 time: 45.01\n",
      "w:    5 space: 1341096 time: 45.21\n",
      "w:   10 space:  736529 time: 48.99\n",
      "MinHash set:\n",
      "m:   10 space:      10 time: 39.08\n",
      "m:  100 space:     100 time: 38.82\n",
      "m: 1000 space:    1000 time: 38.54\n"
     ]
    }
   ]
  }
 ],
 "metadata": {
  "colab": {
   "provenance": []
  },
  "kernelspec": {
   "display_name": "Python 3",
   "name": "python3"
  },
  "language_info": {
   "name": "python"
  }
 },
 "nbformat": 4,
 "nbformat_minor": 0
}